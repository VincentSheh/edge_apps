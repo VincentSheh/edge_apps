{
 "cells": [
  {
   "cell_type": "code",
   "execution_count": null,
   "metadata": {},
   "outputs": [],
   "source": [
    "import pandas as pd\n",
    "\n",
    "phi_1 = 1.0\n",
    "phi_2 = -0.5\n",
    "p_0, p_1 = 1, 2/3\n",
    "p_k = [[0,1], [1,2/3]]\n",
    "\n",
    "for i in range(2,15):\n",
    "    p_k.append([i, phi_1*p_k[i-1][1] + phi_2*p_k[i-2][1]])\n",
    "\n",
    "df = pd.DataFrame(p_k, columns = [\"k\", \"p_k\"])\n",
    "df\n"
   ]
  },
  {
   "cell_type": "code",
   "execution_count": null,
   "metadata": {},
   "outputs": [],
   "source": []
  }
 ],
 "metadata": {
  "language_info": {
   "name": "python"
  },
  "orig_nbformat": 4
 },
 "nbformat": 4,
 "nbformat_minor": 2
}
